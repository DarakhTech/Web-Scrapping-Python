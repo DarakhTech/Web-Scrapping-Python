{
 "cells": [
  {
   "cell_type": "code",
   "execution_count": 13,
   "metadata": {},
   "outputs": [],
   "source": [
    "import requests\n",
    "from bs4 import BeautifulSoup\n",
    "import pandas as pd\n",
    "import re"
   ]
  },
  {
   "cell_type": "code",
   "execution_count": 83,
   "metadata": {},
   "outputs": [],
   "source": [
    "base_url = \"https://collegedunia.com/usa/university/1090-harvard-university-cambridge/programs?stream_id=66\""
   ]
  },
  {
   "cell_type": "code",
   "execution_count": 84,
   "metadata": {},
   "outputs": [],
   "source": [
    "headers = {'User-Agent': 'Mozilla/5.0 (Windows NT 10.0; Win64; x64) AppleWebKit/537.36 (KHTML, like Gecko) Chrome/58.0.3029.110 Safari/537.36'}"
   ]
  },
  {
   "cell_type": "code",
   "execution_count": 85,
   "metadata": {},
   "outputs": [],
   "source": [
    "response = requests.get(base_url, headers=headers)\n",
    "content = response.content\n",
    "parsed_content = BeautifulSoup(content, 'html.parser')\n",
    "# parsed_content = parsed_content.prettify()"
   ]
  },
  {
   "cell_type": "code",
   "execution_count": 94,
   "metadata": {},
   "outputs": [
    {
     "name": "stdout",
     "output_type": "stream",
     "text": [
      "{'name': 'Harvard University, Cambridge', 'course_1': 'Master of Science [M.S] Data Science', 'fee_1': 'INR 51.3 L/Yr', 'detail1_1': '2 years', 'detail2_1': 'Co Op, On Campus', 'TOEFL_1': '100', 'IELTS_1': '7', 'GRE_1': '292', 'course_2': 'Master of Science [M.S] Health Data Science', 'fee_2': 'INR 44.9 L/Yr', 'detail1_2': '1 year', 'detail2_2': 'On Campus', 'TOEFL_2': '90', 'IELTS_2': '6.5', 'GRE_2': '292', 'course_3': 'Master Liberal Arts - Data Science', 'fee_3': 'INR 32.1 L/Yr', 'detail1_3': '2 years', 'detail2_3': 'Online, On Campus', 'TOEFL_3': '100', 'IELTS_3': '7', 'PTE_3': '70'}\n"
     ]
    }
   ],
   "source": [
    "# print(name.text[47:-32])\n",
    "courses ={}\n",
    "name = parsed_content.find(\"h1\", {\"class\": \"jsx-1970226350 text-white font-weight-bolder mt-0 mb-1 text-lg\"})\n",
    "courses.update({\"name\":name.text[47:-32]})\n",
    "\n",
    "main_container = parsed_content.find(\"div\", {\"class\": \"jsx-3749487892 jsx-2822574162 col-9\"})\n",
    "for index, details in enumerate(main_container.find_all('div', {\"class\": \"jsx-1440666465 jsx-2133140133 card border-0 course-card page_center_body_listing bg-white py-0 pt-3 pb-3 px-2 mx-0 my-2 avatar-container\"})):\n",
    "    \n",
    "    c_name = details.find(\"a\", {\"class\": \"jsx-1440666465 jsx-2133140133\"})\n",
    "    exams = details.find_all(\"a\", {\"class\": \"jsx-1440666465 jsx-2133140133 text-sidebar-heading\"})\n",
    "    score = details.find_all(\"span\", {\"class\": \"jsx-1440666465 jsx-2133140133 exam-score text-primary font-weight-bold\"})\n",
    "    extra = details.find_all(\"span\", {\"class\": \"jsx-1440666465 jsx-2133140133\"}) # 0,1,2\n",
    "    fee = details.find(\"span\", {\"class\":\"jsx-1440666465 jsx-2133140133 fees font-weight-bolder mb-1\"})\n",
    "    \n",
    "    courses.update({\n",
    "        \"course\" + \"_\" + str(index+1):c_name.text,\n",
    "        \"fee\" + \"_\" + str(index+1):fee.text,\n",
    "    })\n",
    "    \n",
    "    for i,t in enumerate(extra[:2]):\n",
    "        courses.update({\"detail\"  + str(i+1) + \"_\" + str(index+1):t.text})\n",
    "    for e,s in zip(exams,score):\n",
    "        courses.update({e.text  + \"_\" + str(index+1):s.text})\n",
    "    \n",
    "print(courses)\n",
    "    \n",
    "    # break"
   ]
  },
  {
   "cell_type": "code",
   "execution_count": null,
   "metadata": {},
   "outputs": [],
   "source": [
    "'''\n",
    "\n",
    "<h1 class=\"jsx-1970226350 text-white font-weight-bolder mt-0 mb-1 text-lg\">\n",
    "Data Science And Analytics Stream Courses From Harvard University, Cambridge - Fees &amp; Admission Details 2023\n",
    "</h1>\n",
    "\n",
    "\n",
    "'''"
   ]
  }
 ],
 "metadata": {
  "kernelspec": {
   "display_name": "Python 3",
   "language": "python",
   "name": "python3"
  },
  "language_info": {
   "codemirror_mode": {
    "name": "ipython",
    "version": 3
   },
   "file_extension": ".py",
   "mimetype": "text/x-python",
   "name": "python",
   "nbconvert_exporter": "python",
   "pygments_lexer": "ipython3",
   "version": "3.11.3"
  },
  "orig_nbformat": 4
 },
 "nbformat": 4,
 "nbformat_minor": 2
}
