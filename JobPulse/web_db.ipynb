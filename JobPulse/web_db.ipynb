{
 "cells": [
  {
   "cell_type": "code",
   "execution_count": 17,
   "metadata": {},
   "outputs": [],
   "source": [
    "import requests as rq\n",
    "import json\n",
    "import pandas as pd"
   ]
  },
  {
   "cell_type": "code",
   "execution_count": 19,
   "metadata": {},
   "outputs": [],
   "source": [
    "def sendDiscordMessage(dictionary):\n",
    "    data = {}\n",
    "    \n",
    "    link = dictionary['link'] if dictionary['link'] else dictionary['apply_link']\n",
    "    data[\"embeds\"] = [\n",
    "        {\n",
    "            \"description\" : dictionary['date_added']  + \" | \" +  dictionary['id'],\n",
    "            \"title\" : dictionary['company'] + \" | \" +  dictionary['title'],\n",
    "            \"url\": link\n",
    "        }\n",
    "    ]\n",
    "\n",
    "    result = rq.post(webhoook_url, json = data)\n",
    "\n",
    "    try:\n",
    "        result.raise_for_status()\n",
    "    except rq.exceptions.HTTPError as err:\n",
    "        print(err)\n",
    "    else:\n",
    "        print(\"Payload delivered successfully, code {}.\".format(result.status_code))\n"
   ]
  },
  {
   "cell_type": "code",
   "execution_count": 20,
   "metadata": {},
   "outputs": [],
   "source": [
    "payload_job = {\n",
    "    \"query\": \"Data Science\",\n",
    "    \"yoe\": 0,\n",
    "    \"page_size\": 20,\n",
    "    \"location\": \"United States\",\n",
    "    \"from\": 0\n",
    "}\n",
    "\n",
    "payload_intern = {\n",
    "    \"query\": \"Data Science\",\n",
    "    \"yoe\": \"intern\",\n",
    "    \"page_size\": 20,\n",
    "    \"location\": \"United States\",\n",
    "    \"from\": 0\n",
    "}"
   ]
  },
  {
   "cell_type": "code",
   "execution_count": 21,
   "metadata": {},
   "outputs": [],
   "source": [
    "response = rq.post(url, json=payload_intern)\n",
    "json_string = response.content.decode('utf-8')"
   ]
  },
  {
   "cell_type": "code",
   "execution_count": 22,
   "metadata": {},
   "outputs": [],
   "source": [
    "try:\n",
    "    extracted_list = json.loads(json_string)\n",
    "    openings = extracted_list\n",
    "except json.JSONDecodeError as e:\n",
    "    print(f\"Error decoding JSON: {e}\")"
   ]
  },
  {
   "cell_type": "code",
   "execution_count": 23,
   "metadata": {},
   "outputs": [],
   "source": [
    "L = []\n",
    "for element in extracted_list:\n",
    "    L.append(element[\"_source\"])\n",
    "    "
   ]
  },
  {
   "cell_type": "code",
   "execution_count": 24,
   "metadata": {},
   "outputs": [],
   "source": [
    "df = pd.DataFrame(L)"
   ]
  },
  {
   "cell_type": "code",
   "execution_count": 25,
   "metadata": {},
   "outputs": [],
   "source": [
    "del df['title_correct_by_gpt']"
   ]
  },
  {
   "cell_type": "code",
   "execution_count": 26,
   "metadata": {},
   "outputs": [],
   "source": [
    "df_old = pd.read_csv('Internships.csv')\n",
    "unique = df['id'][~df['id'].isin(df_old['id'])]"
   ]
  },
  {
   "cell_type": "code",
   "execution_count": 27,
   "metadata": {},
   "outputs": [],
   "source": [
    "df.to_csv('Internships.csv', index_label=True)\n",
    "new_internships = df[df['id'].isin(unique.values)]"
   ]
  },
  {
   "cell_type": "code",
   "execution_count": 28,
   "metadata": {},
   "outputs": [],
   "source": [
    "new_df = pd.DataFrame(new_internships)"
   ]
  },
  {
   "cell_type": "code",
   "execution_count": 16,
   "metadata": {},
   "outputs": [
    {
     "data": {
      "text/html": [
       "<div>\n",
       "<style scoped>\n",
       "    .dataframe tbody tr th:only-of-type {\n",
       "        vertical-align: middle;\n",
       "    }\n",
       "\n",
       "    .dataframe tbody tr th {\n",
       "        vertical-align: top;\n",
       "    }\n",
       "\n",
       "    .dataframe thead th {\n",
       "        text-align: right;\n",
       "    }\n",
       "</style>\n",
       "<table border=\"1\" class=\"dataframe\">\n",
       "  <thead>\n",
       "    <tr style=\"text-align: right;\">\n",
       "      <th></th>\n",
       "      <th>apply_link</th>\n",
       "      <th>company</th>\n",
       "      <th>date_added</th>\n",
       "      <th>id</th>\n",
       "      <th>link</th>\n",
       "      <th>location</th>\n",
       "      <th>title</th>\n",
       "      <th>yoe</th>\n",
       "      <th>category</th>\n",
       "    </tr>\n",
       "  </thead>\n",
       "  <tbody>\n",
       "  </tbody>\n",
       "</table>\n",
       "</div>"
      ],
      "text/plain": [
       "Empty DataFrame\n",
       "Columns: [apply_link, company, date_added, id, link, location, title, yoe, category]\n",
       "Index: []"
      ]
     },
     "execution_count": 16,
     "metadata": {},
     "output_type": "execute_result"
    }
   ],
   "source": []
  },
  {
   "cell_type": "code",
   "execution_count": 29,
   "metadata": {},
   "outputs": [
    {
     "name": "stdout",
     "output_type": "stream",
     "text": [
      "Row 19:\n",
      "{'apply_link': nan, 'company': 'Tesla', 'date_added': '2023-06-09T00:00:00.000Z', 'id': '58hTxk14wIm0HT8Bjk0r', 'link': 'https://www.linkedin.com/jobs/view/3574585867', 'location': 'United States', 'title': 'Software Data Platforms Engineering Internship (Fall 2023)', 'yoe': 'intern', 'category': nan}\n",
      "Payload delivered successfully, code 204.\n",
      "Row 20:\n",
      "{'apply_link': nan, 'company': 'Tesla', 'date_added': '2023-06-09T00:00:00.000Z', 'id': 'iOVK6KXr0WOBddeqwo12', 'link': 'https://www.linkedin.com/jobs/view/3518600937', 'location': 'United States', 'title': 'Data Engineering Internship, Applications Engineering (Fall 2023)', 'yoe': 'intern', 'category': nan}\n",
      "Payload delivered successfully, code 204.\n"
     ]
    }
   ],
   "source": [
    "for index, row in new_df.iterrows():\n",
    "    print(f\"Row {index + 1}:\")\n",
    "    dic = {}\n",
    "    for column, value in row.items():\n",
    "        dic[column] = value\n",
    "    print(dic)\n",
    "    sendDiscordMessage(dic)"
   ]
  }
 ],
 "metadata": {
  "kernelspec": {
   "display_name": "Python 3",
   "language": "python",
   "name": "python3"
  },
  "language_info": {
   "codemirror_mode": {
    "name": "ipython",
    "version": 3
   },
   "file_extension": ".py",
   "mimetype": "text/x-python",
   "name": "python",
   "nbconvert_exporter": "python",
   "pygments_lexer": "ipython3",
   "version": "3.11.3"
  },
  "orig_nbformat": 4
 },
 "nbformat": 4,
 "nbformat_minor": 2
}
